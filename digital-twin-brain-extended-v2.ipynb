{
 "cells": [
  {
   "cell_type": "markdown",
   "id": "947acdf0",
   "metadata": {},
   "source": [
    "# Digital Twin Brain Model – Perfusion & Ischemia Simulation\n",
    "This notebook visualizes simulated brain perfusion data, flags ischemia risk regions, and extends the model with a basic time-series ischemia progression simulation."
   ]
  },
  {
   "cell_type": "markdown",
   "id": "9370a3b9",
   "metadata": {},
   "source": [
    "## Step 1: Import Libraries"
   ]
  },
  {
   "cell_type": "code",
   "execution_count": null,
   "id": "d27bd8dd",
   "metadata": {},
   "outputs": [],
   "source": [
    "import pandas as pd\n",
    "import numpy as np\n",
    "import matplotlib.pyplot as plt"
   ]
  },
  {
   "cell_type": "markdown",
   "id": "17d76870",
   "metadata": {},
   "source": [
    "## Step 2: Load the Dataset"
   ]
  },
  {
   "cell_type": "code",
   "execution_count": null,
   "id": "9b6c041f",
   "metadata": {},
   "outputs": [],
   "source": [
    "df = pd.read_csv('../data/brain_perfusion_mock.csv')\n",
    "df.head()"
   ]
  },
  {
   "cell_type": "markdown",
   "id": "0ec7f2e8",
   "metadata": {},
   "source": [
    "## Step 3: Visualize Metrics as a Grouped Bar Chart"
   ]
  },
  {
   "cell_type": "code",
   "execution_count": null,
   "id": "14d8231d",
   "metadata": {},
   "outputs": [],
   "source": [
    "\n",
    "x = np.arange(len(df[\"Region\"]))\n",
    "perf = df[\"PerfusionRate\"]\n",
    "ox = df[\"OxygenSaturation\"]\n",
    "viability = df[\"TissueViabilityScore\"] * 100\n",
    "\n",
    "fig, ax = plt.subplots(figsize=(10, 4))\n",
    "bar_width = 0.25\n",
    "ax.bar(x - bar_width, perf, width=bar_width, label=\"Perfusion\", color=\"skyblue\")\n",
    "ax.bar(x, ox, width=bar_width, label=\"Oxygen Saturation\", color=\"lightgreen\")\n",
    "ax.bar(x + bar_width, viability, width=bar_width, label=\"Viability (0–100)\", color=\"salmon\")\n",
    "\n",
    "ax.set_xticks(x)\n",
    "ax.set_xticklabels(df[\"Region\"])\n",
    "ax.set_ylabel(\"Value\")\n",
    "ax.set_title(\"Brain Region Metrics\")\n",
    "ax.legend()\n",
    "plt.tight_layout()\n",
    "plt.show()\n"
   ]
  },
  {
   "cell_type": "markdown",
   "id": "40723cc0",
   "metadata": {},
   "source": [
    "## Step 4: Flag Regions at Risk of Ischemia"
   ]
  },
  {
   "cell_type": "code",
   "execution_count": null,
   "id": "4fd6a1b1",
   "metadata": {},
   "outputs": [],
   "source": [
    "\n",
    "df['IschemiaRisk'] = (df['PerfusionRate'] < 35) & (df['TissueViabilityScore'] < 0.5)\n",
    "df[['Region', 'PerfusionRate', 'OxygenSaturation', 'TissueViabilityScore', 'IschemiaRisk']]\n"
   ]
  },
  {
   "cell_type": "markdown",
   "id": "10a943b3",
   "metadata": {},
   "source": [
    "## Step 5: Time-Series Simulation of Ischemia Progression\n",
    "We simulate the degradation of tissue viability over 10 minutes assuming constant hypoperfusion."
   ]
  },
  {
   "cell_type": "code",
   "execution_count": null,
   "id": "e888d3e3",
   "metadata": {},
   "outputs": [],
   "source": [
    "\n",
    "time_steps = 10\n",
    "viability_over_time = []\n",
    "\n",
    "# assume 5% drop per minute for high-risk regions, 1% otherwise\n",
    "for t in range(time_steps):\n",
    "    drop = np.where(df[\"IschemiaRisk\"], 0.05, 0.01)\n",
    "    new_viability = np.maximum(df[\"TissueViabilityScore\"] - drop * t, 0)\n",
    "    viability_over_time.append(new_viability)\n",
    "\n",
    "viability_over_time = np.array(viability_over_time)\n",
    "\n",
    "# Plot progression\n",
    "plt.figure(figsize=(12, 6))\n",
    "for i in range(len(df)):\n",
    "    plt.plot(range(time_steps), viability_over_time[:, i], label=df[\"Region\"][i])\n",
    "plt.xlabel(\"Time (minutes)\")\n",
    "plt.ylabel(\"Tissue Viability Score\")\n",
    "plt.title(\"Simulated Ischemia Progression Over Time\")\n",
    "plt.legend(loc=\"upper right\", ncol=2)\n",
    "plt.grid(True)\n",
    "plt.tight_layout()\n",
    "plt.show()\n"
   ]
  },
  {
   "cell_type": "markdown",
   "id": "da00d6df",
   "metadata": {},
   "source": [
    "## Step 6: Add Predictive Flags and Brain Death Alerts"
   ]
  },
  {
   "cell_type": "code",
   "execution_count": null,
   "id": "ef41272f",
   "metadata": {},
   "outputs": [],
   "source": [
    "\n",
    "# Define thresholds\n",
    "BRAIN_DEATH_THRESHOLD = 0.2\n",
    "\n",
    "# Determine if and when each region crosses the threshold\n",
    "brain_death_times = []\n",
    "\n",
    "for i in range(viability_over_time.shape[1]):\n",
    "    below_thresh = np.where(viability_over_time[:, i] < BRAIN_DEATH_THRESHOLD)[0]\n",
    "    if len(below_thresh) > 0:\n",
    "        brain_death_times.append(below_thresh[0])\n",
    "    else:\n",
    "        brain_death_times.append(None)\n",
    "\n",
    "df[\"BrainDeathMinute\"] = brain_death_times\n",
    "df[[\"Region\", \"IschemiaRisk\", \"BrainDeathMinute\"]]\n"
   ]
  },
  {
   "cell_type": "markdown",
   "id": "d455318b",
   "metadata": {},
   "source": [
    "## Step 7: Simulate Response to Treatment (Restored Perfusion at Minute 5)\n",
    "Assume treatment is given at minute 5, stopping further decline in viability."
   ]
  },
  {
   "cell_type": "code",
   "execution_count": null,
   "id": "8dbca997",
   "metadata": {},
   "outputs": [],
   "source": [
    "\n",
    "# Recalculate viability with intervention\n",
    "viability_treated = []\n",
    "\n",
    "for t in range(time_steps):\n",
    "    if t < 5:\n",
    "        drop = np.where(df[\"IschemiaRisk\"], 0.05, 0.01)\n",
    "    else:\n",
    "        drop = np.zeros_like(df[\"TissueViabilityScore\"])\n",
    "    new_viability = np.maximum(df[\"TissueViabilityScore\"] - drop * t, 0)\n",
    "    viability_treated.append(new_viability)\n",
    "\n",
    "viability_treated = np.array(viability_treated)\n",
    "\n",
    "# Plot both untreated and treated\n",
    "plt.figure(figsize=(12, 6))\n",
    "for i in range(len(df)):\n",
    "    plt.plot(range(time_steps), viability_over_time[:, i], linestyle=\"--\", label=f\"{df['Region'][i]} Untreated\")\n",
    "    plt.plot(range(time_steps), viability_treated[:, i], linestyle=\"-\", label=f\"{df['Region'][i]} Treated\")\n",
    "plt.xlabel(\"Time (minutes)\")\n",
    "plt.ylabel(\"Tissue Viability Score\")\n",
    "plt.title(\"Viability Over Time: Treated vs Untreated Regions\")\n",
    "plt.grid(True)\n",
    "plt.legend(ncol=2, fontsize=8)\n",
    "plt.tight_layout()\n",
    "plt.show()\n"
   ]
  }
 ],
 "metadata": {},
 "nbformat": 4,
 "nbformat_minor": 5
}
